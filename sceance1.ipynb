{
 "cells": [
  {
   "cell_type": "markdown",
   "metadata": {},
   "source": [
    "# Sceance1"
   ]
  },
  {
   "cell_type": "raw",
   "metadata": {},
   "source": [
    "Exercice 1: Écrire un programme qui, à partir de la saisie d'un rayon et d'une hauteur, calcule le volume d'un cône droit."
   ]
  },
  {
   "cell_type": "code",
   "execution_count": 2,
   "metadata": {},
   "outputs": [
    {
     "name": "stdout",
     "output_type": "stream",
     "text": [
      "entrez le rayon = 5\n",
      "entrez la hauteur = 6\n",
      "le volume est de =  157.07963267948963\n"
     ]
    }
   ],
   "source": [
    "import math\n",
    "ray = float(input(\"entrez le rayon = \"))\n",
    "h = float(input(\"entrez la hauteur = \"))\n",
    "v = 1/3*ray*ray*h*math.pi\n",
    "print(\"le volume est de = \",v)"
   ]
  },
  {
   "cell_type": "raw",
   "metadata": {},
   "source": [
    "Exercice 2 : \n",
    "Somme des cubes\n",
    "    Pour un entier n fixé, programmer le calcul de la somme Sn=1*1*1+2*2*2+3*3*3+···+n*n*n\n",
    "    Définir un programme qui pour une valeur n calcul la somme Σn=1+2+3+···+n.\n"
   ]
  },
  {
   "cell_type": "code",
   "execution_count": 3,
   "metadata": {},
   "outputs": [
    {
     "name": "stdout",
     "output_type": "stream",
     "text": [
      "Entrez le nombre de termes = 6\n",
      "La somme de la série est =  441\n"
     ]
    }
   ],
   "source": [
    "n = int(input(\"Entrez le nombre de termes = \"))\n",
    "somme = 0\n",
    "for i in range(1,n+1):\n",
    "    somme = somme+i*i*i\n",
    "print(\"La somme de la série est = \",somme)"
   ]
  },
  {
   "cell_type": "code",
   "execution_count": 4,
   "metadata": {},
   "outputs": [
    {
     "name": "stdout",
     "output_type": "stream",
     "text": [
      "Entrez le nombre de termes = 6\n",
      "La somme de la série n est =  21\n"
     ]
    }
   ],
   "source": [
    "n = int(input(\"Entrez le nombre de termes = \"))\n",
    "somme = 0\n",
    "for i in range(1,n+1):\n",
    "    somme = somme+i\n",
    "print(\"La somme de la série n est = \",somme)"
   ]
  },
  {
   "cell_type": "code",
   "execution_count": null,
   "metadata": {},
   "outputs": [],
   "source": []
  }
 ],
 "metadata": {
  "kernelspec": {
   "display_name": "Python 3",
   "language": "python",
   "name": "python3"
  },
  "language_info": {
   "codemirror_mode": {
    "name": "ipython",
    "version": 3
   },
   "file_extension": ".py",
   "mimetype": "text/x-python",
   "name": "python",
   "nbconvert_exporter": "python",
   "pygments_lexer": "ipython3",
   "version": "3.7.6"
  }
 },
 "nbformat": 4,
 "nbformat_minor": 4
}
